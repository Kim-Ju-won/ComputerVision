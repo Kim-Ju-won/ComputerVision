{
 "cells": [
  {
   "attachments": {},
   "cell_type": "markdown",
   "id": "ae233aa4",
   "metadata": {},
   "source": [
    "# 기존의 Cifar-10 처리 구조!\n",
    "\n",
    "- 전체적인 구조는 VGG16과 유사하고, 최종 3개 단은 거의 같음"
   ]
  },
  {
   "cell_type": "code",
   "execution_count": 1,
   "id": "0c7b402b",
   "metadata": {},
   "outputs": [],
   "source": [
    "from keras import models\n",
    "from keras import layers\n",
    "\n",
    "model = models.Sequential()\n",
    "\n",
    "model.add(layers.Conv2D(32, (3,3), padding=\"SAME\", activation='relu', input_shape=(32, 32, 3)))\n",
    "model.add(layers.Conv2D(32, (3,3), padding=\"SAME\", activation='relu'))\n",
    "model.add(layers.Conv2D(32, (3,3), padding=\"SAME\", activation='relu'))\n",
    "model.add(layers.MaxPooling2D((2, 2)))\n",
    "model.add(layers.Conv2D(64, (3,3), padding=\"SAME\", activation='relu'))\n",
    "model.add(layers.Conv2D(64, (3,3), padding=\"SAME\", activation='relu'))\n",
    "model.add(layers.Conv2D(64, (3,3), padding=\"SAME\", activation='relu'))\n",
    "model.add(layers.MaxPooling2D((2, 2)))\n",
    "model.add(layers.Conv2D(64, (3,3), padding=\"SAME\", activation='relu'))\n",
    "model.add(layers.Conv2D(64, (3,3), padding=\"SAME\", activation='relu'))\n",
    "model.add(layers.Conv2D(64, (3,3), padding=\"SAME\", activation='relu'))\n",
    "model.add(layers.MaxPooling2D((2, 2)))\n",
    "model.add(layers.Flatten()) \t#  (4, 4, 64) 출력을 1,024 크기로 펼침\n",
    "model.add(layers.Dense(128, activation='relu'))\n",
    "model.add(layers.Dense(10, activation='softmax'))"
   ]
  },
  {
   "cell_type": "markdown",
   "id": "2fa5f716",
   "metadata": {},
   "source": [
    "- 모델 예약"
   ]
  },
  {
   "cell_type": "code",
   "execution_count": 2,
   "id": "185b5cfe",
   "metadata": {},
   "outputs": [
    {
     "name": "stdout",
     "output_type": "stream",
     "text": [
      "Model: \"sequential\"\n",
      "_________________________________________________________________\n",
      " Layer (type)                Output Shape              Param #   \n",
      "=================================================================\n",
      " conv2d (Conv2D)             (None, 32, 32, 32)        896       \n",
      "                                                                 \n",
      " conv2d_1 (Conv2D)           (None, 32, 32, 32)        9248      \n",
      "                                                                 \n",
      " conv2d_2 (Conv2D)           (None, 32, 32, 32)        9248      \n",
      "                                                                 \n",
      " max_pooling2d (MaxPooling2D  (None, 16, 16, 32)       0         \n",
      " )                                                               \n",
      "                                                                 \n",
      " conv2d_3 (Conv2D)           (None, 16, 16, 64)        18496     \n",
      "                                                                 \n",
      " conv2d_4 (Conv2D)           (None, 16, 16, 64)        36928     \n",
      "                                                                 \n",
      " conv2d_5 (Conv2D)           (None, 16, 16, 64)        36928     \n",
      "                                                                 \n",
      " max_pooling2d_1 (MaxPooling  (None, 8, 8, 64)         0         \n",
      " 2D)                                                             \n",
      "                                                                 \n",
      " conv2d_6 (Conv2D)           (None, 8, 8, 64)          36928     \n",
      "                                                                 \n",
      " conv2d_7 (Conv2D)           (None, 8, 8, 64)          36928     \n",
      "                                                                 \n",
      " conv2d_8 (Conv2D)           (None, 8, 8, 64)          36928     \n",
      "                                                                 \n",
      " max_pooling2d_2 (MaxPooling  (None, 4, 4, 64)         0         \n",
      " 2D)                                                             \n",
      "                                                                 \n",
      " flatten (Flatten)           (None, 1024)              0         \n",
      "                                                                 \n",
      " dense (Dense)               (None, 128)               131200    \n",
      "                                                                 \n",
      " dense_1 (Dense)             (None, 10)                1290      \n",
      "                                                                 \n",
      "=================================================================\n",
      "Total params: 355,018\n",
      "Trainable params: 355,018\n",
      "Non-trainable params: 0\n",
      "_________________________________________________________________\n"
     ]
    }
   ],
   "source": [
    "model.summary()"
   ]
  },
  {
   "cell_type": "markdown",
   "id": "e4c84509",
   "metadata": {},
   "source": [
    "# 영상 읽어오기"
   ]
  },
  {
   "cell_type": "code",
   "execution_count": 4,
   "id": "b0996cd7",
   "metadata": {},
   "outputs": [],
   "source": [
    "import tensorflow as tf\n",
    "from tensorflow import keras\n",
    "from keras import models\n",
    "from keras import layers\n",
    "\n",
    "# 관련 패키지\n",
    "import numpy as np\n",
    "import matplotlib.pyplot as plt\n",
    "\n",
    "# 영상 파일 읽기\n",
    "cifar10 = keras.datasets.cifar10\n",
    "\n",
    "(train_images, train_labels), (test_images, test_labels) = cifar10.load_data()\n",
    "\n",
    "# 영상 데이터를 [0, 1] 범위로 바꾸기\n",
    "train_images = train_images / 255.0\n",
    "test_images = test_images / 255.0"
   ]
  },
  {
   "cell_type": "markdown",
   "id": "279ec355",
   "metadata": {},
   "source": [
    "# 훈련 부분\n",
    "\n",
    "- 최종적으로 75% 정도의 정확도를 보임"
   ]
  },
  {
   "cell_type": "code",
   "execution_count": 5,
   "id": "10a9c353",
   "metadata": {},
   "outputs": [
    {
     "name": "stderr",
     "output_type": "stream",
     "text": [
      "2022-05-23 03:24:34.659341: W tensorflow/core/platform/profile_utils/cpu_utils.cc:128] Failed to get CPU frequency: 0 Hz\n"
     ]
    },
    {
     "name": "stdout",
     "output_type": "stream",
     "text": [
      "Epoch 1/10\n",
      "704/704 [==============================] - 71s 101ms/step - loss: 1.6664 - accuracy: 0.3833 - val_loss: 1.4233 - val_accuracy: 0.4730\n",
      "Epoch 2/10\n",
      "704/704 [==============================] - 75s 106ms/step - loss: 1.2467 - accuracy: 0.5501 - val_loss: 1.1413 - val_accuracy: 0.5870\n",
      "Epoch 3/10\n",
      "704/704 [==============================] - 81s 116ms/step - loss: 1.0172 - accuracy: 0.6370 - val_loss: 1.1268 - val_accuracy: 0.6120\n",
      "Epoch 4/10\n",
      "704/704 [==============================] - 87s 123ms/step - loss: 0.8728 - accuracy: 0.6882 - val_loss: 0.9328 - val_accuracy: 0.6760\n",
      "Epoch 5/10\n",
      "704/704 [==============================] - 88s 125ms/step - loss: 0.7578 - accuracy: 0.7296 - val_loss: 0.8663 - val_accuracy: 0.6988\n",
      "Epoch 6/10\n",
      "704/704 [==============================] - 88s 125ms/step - loss: 0.6636 - accuracy: 0.7671 - val_loss: 0.7912 - val_accuracy: 0.7326\n",
      "Epoch 7/10\n",
      "704/704 [==============================] - 89s 126ms/step - loss: 0.5893 - accuracy: 0.7918 - val_loss: 0.7902 - val_accuracy: 0.7346\n",
      "Epoch 8/10\n",
      "704/704 [==============================] - 89s 126ms/step - loss: 0.5244 - accuracy: 0.8124 - val_loss: 0.8027 - val_accuracy: 0.7456\n",
      "Epoch 9/10\n",
      "704/704 [==============================] - 89s 127ms/step - loss: 0.4647 - accuracy: 0.8357 - val_loss: 0.7660 - val_accuracy: 0.7502\n",
      "Epoch 10/10\n",
      "704/704 [==============================] - 90s 127ms/step - loss: 0.4113 - accuracy: 0.8538 - val_loss: 0.8762 - val_accuracy: 0.7360\n",
      "313/313 - 7s - loss: 0.9202 - accuracy: 0.7237 - 7s/epoch - 21ms/step\n",
      "\n",
      "테스트 정확도: 0.7236999869346619\n"
     ]
    }
   ],
   "source": [
    "model.compile(optimizer='adam',\n",
    "              loss='sparse_categorical_crossentropy',\n",
    "              metrics=['accuracy'])\n",
    "\n",
    "batch_size = 64\n",
    "\n",
    "early_stop = keras.callbacks.EarlyStopping(monitor='val_loss', patience=10)\n",
    "model.fit(train_images, train_labels,\n",
    "          batch_size=batch_size,\n",
    "          validation_split = 0.1,\n",
    "          epochs=10,\n",
    "          callbacks=[early_stop])\n",
    "\n",
    "test_loss, test_acc = model.evaluate(test_images,  test_labels, verbose=2)\n",
    "\n",
    "print('\\n테스트 정확도:', test_acc)\n"
   ]
  }
 ],
 "metadata": {
  "kernelspec": {
   "display_name": "Python 3 (ipykernel)",
   "language": "python",
   "name": "python3"
  },
  "language_info": {
   "codemirror_mode": {
    "name": "ipython",
    "version": 3
   },
   "file_extension": ".py",
   "mimetype": "text/x-python",
   "name": "python",
   "nbconvert_exporter": "python",
   "pygments_lexer": "ipython3",
   "version": "3.9.10"
  }
 },
 "nbformat": 4,
 "nbformat_minor": 5
}
